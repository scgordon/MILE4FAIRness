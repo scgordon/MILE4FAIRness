{
 "cells": [
  {
   "cell_type": "markdown",
   "metadata": {},
   "source": [
    "# Evaluation, analysis, and reporting on your metadata collection\n",
    "\n",
    "The first step is to extract all nodes that contain text, element or attribute, into a csv that flattens the xml while retaining all information, except for order of elements (though there is a parameter to extract that information in the XSL if you're interested in extending the code to test the content of an element).\n",
    "\n",
    "Second, we create a version of the data that only contains the xpaths from the FAIR recommendation you've created. To do this use the xpaths that coorespond with the FAIR recommendation concepts you're including, and in some cases, the element name. This instantiation of the recommendation does not go all the way into the child elements neccessary for the recommendation, but is employed in such a way as to scrape all the children elements used. This way the result contains all of the metadata that that site used to add additional context to the concepts the recommendation contains.\n",
    "\n",
    "Next these csv are analyzed for occurrence.\n",
    "\n",
    "Finally to compare directly between the differences in child elements each site uses, we pivot the data to create a table containing the completeness percentage for the highest occurring child element visualize the completeness. \n",
    "\n"
   ]
  },
  {
   "cell_type": "markdown",
   "metadata": {},
   "source": [
    "#### Google Colaboratory environment\n",
    "\n",
    "Run the next two code cells to prepare Colab for creating reports. If you are using your own Jupyter, see the README.MD for necessary modules"
   ]
  },
  {
   "cell_type": "code",
   "execution_count": null,
   "metadata": {},
   "outputs": [],
   "source": [
    "!git clone https://github.com/scgordon/MILE4FAIRness.git\n",
    "!pip install xlsxwriter pydrive\n",
    "!pip install https://11956-14579099-gh.circle-artifacts.com/0/dist/plotly-3.8.0%2B2.g4a2ccc2e.tar.gz\n",
    "\n",
    "!wget https://github.com/plotly/orca/releases/download/v1.2.1/orca-1.2.1-x86_64.AppImage -O /usr/local/bin/orca\n",
    "!chmod +x /usr/local/bin/orca\n",
    "!apt-get install xvfb libgtk2.0-0 libgconf-2-4"
   ]
  },
  {
   "cell_type": "code",
   "execution_count": null,
   "metadata": {},
   "outputs": [],
   "source": [
    "cd 'MILE4FAIRness/notebooks/'"
   ]
  },
  {
   "cell_type": "code",
   "execution_count": null,
   "metadata": {},
   "outputs": [],
   "source": [
    "#!git clone https://github.com/scgordon/SampleMetadataMILE4.git ../collection/\n",
    "  \n",
    "#!git clone https://github.com/scgordon/NCARlibraryXMLthroughTime.git  ../collection/"
   ]
  },
  {
   "cell_type": "markdown",
   "metadata": {},
   "source": [
    "#### Collect your own metadata records\n",
    "[Notebook: Compile Collections](./compileCollection.ipynb)"
   ]
  },
  {
   "cell_type": "markdown",
   "metadata": {},
   "source": [
    "## Prepare the notebook evironment\n",
    "\n",
    "* import modules\n",
    "* define variables\n",
    "* define recommendation"
   ]
  },
  {
   "cell_type": "code",
   "execution_count": 1,
   "metadata": {},
   "outputs": [
    {
     "data": {
      "text/html": [
       "        <script type=\"text/javascript\">\n",
       "        window.PlotlyConfig = {MathJaxConfig: 'local'};\n",
       "        if (window.MathJax) {MathJax.Hub.Config({SVG: {font: \"STIX-Web\"}});}\n",
       "        if (typeof require !== 'undefined') {\n",
       "        require.undef(\"plotly\");\n",
       "        requirejs.config({\n",
       "            paths: {\n",
       "                'plotly': ['https://cdn.plot.ly/plotly-latest.min']\n",
       "            }\n",
       "        });\n",
       "        require(['plotly'], function(Plotly) {\n",
       "            window._Plotly = Plotly;\n",
       "        });\n",
       "        }\n",
       "        </script>\n",
       "        "
      ]
     },
     "metadata": {},
     "output_type": "display_data"
    }
   ],
   "source": [
    "import sys\n",
    "import os\n",
    "import pandas as pd\n",
    "import gzip\n",
    "import shutil\n",
    "import subprocess\n",
    "import tarfile\n",
    "\n",
    "import EARmd as md\n",
    "\n",
    "os.makedirs(\"../data/FAIR\", exist_ok=True)\n",
    "\n",
    "# create a list of each collections name\n",
    "collectionsToProcess = [name for name in os.listdir(\"../collection\") if not name.startswith('.') ]"
   ]
  },
  {
   "cell_type": "markdown",
   "metadata": {},
   "source": [
    "## Create a FAIR recommendation together\n",
    "[Google Doc for Collaborating](https://docs.google.com/document/d/1pD76sp16zKm4noSMT1ZGGPw1n3zaJrIaEW-h1Fe_MSg/edit?usp=sharing) \n",
    "\n",
    "Add the finished Recommendation to the RecDict in the cell below."
   ]
  },
  {
   "cell_type": "code",
   "execution_count": 5,
   "metadata": {},
   "outputs": [],
   "source": [
    "# A dictionary containing the recommendation xpaths and the relevent sub element. \n",
    "RecDict = {\"Number of Records\": \"Number of Records\",\n",
    "                   '/eml:eml/project/funding': 'funding',\n",
    "                   'attributeLabel': 'attributeLabel',\n",
    "                   'enumeratedDomain': 'enumeratedDomain',\n",
    "                   'qualityControl': 'qualityControl',\n",
    "                   'precision': 'precision',\n",
    "                   'missingValueCode': 'missingValueCode',\n",
    "                   'entityDescription': 'entityDescription',\n",
    "                   '/eml:eml/@xsi:schemaLocation': \"xsi:schemaLocation\",\n",
    "                   \"/eml:eml/@packageId\": \"packageId\",\n",
    "                   '/eml:eml/@system': 'system',\n",
    "                   \"/eml:eml/access\": \"access\",\n",
    "                   '/eml:eml/dataset/alternateIdentifier': \"alternateIdentifier\",\n",
    "                   \"/eml:eml/dataset/title\": \"title\",\n",
    "                   \"/eml:eml/dataset/creator\": \"creator\",\n",
    "                   \"/eml:eml/dataset/contact\": \"contact\",\n",
    "                   \"/eml:eml/dataset/metadataProvider\": \"metadataProvider\",\n",
    "                   \"/eml:eml/dataset/associatedParty\": \"associatedParty\",\n",
    "                   \"/eml:eml/dataset/publisher\": \"publisher\",\n",
    "                   \"/eml:eml/dataset/pubDate\": \"pubDate\",\n",
    "                   \"/eml:eml/dataset/abstract\": \"abstract\",\n",
    "                   '/eml:eml/dataset/project/abstract': \"abstract\",\n",
    "                   \"/eml:eml/dataset/keywordSet\": \"keywordSet\",\n",
    "                   \"/eml:eml/dataset/project/keywordSet\": \"keywordSet\",\n",
    "                   \"/eml:eml/dataset/intellectualRights\": \"intellectualRights\",\n",
    "                   \"/eml:eml/dataset/maintenance\": \"maintenance\",\n",
    "                   \"/eml:eml/dataset/methods\": \"methods\",\n",
    "                   \"/eml:eml/dataset/project\": \"project\",\n",
    "                   'physical/distribution': 'distribution',\n",
    "                   \"/eml:eml/dataset/dataTable/attributeList\": \"attributeList\",\n",
    "                   \"/eml:eml/dataset/spatialRaster/attributeList\": \"attributeList\",\n",
    "                   \"/eml:eml/dataset/spatialVector/attributeList\": \"attributeList\",\n",
    "                   \"/eml:eml/dataset/storedProcedure/attributeList\": \"attributeList\",\n",
    "                   \"/eml:eml/dataset/view/attributeList\": \"attributeList\",\n",
    "                   \"/eml:eml/dataset/otherEntity/attributeList\": \"attributeList\",\n",
    "                   \"/eml:eml/dataset/dataTable/constraint\": \"constraint\",\n",
    "                   \"/eml:eml/dataset/spatialRaster/constraint\": \"constraint\",\n",
    "                   \"/eml:eml/dataset/spatialVector/constraint\": \"constraint\",\n",
    "                   \"/eml:eml/dataset/storedProcedure/constraint\": \"constraint\",\n",
    "                   \"/eml:eml/dataset/view/constraint\": \"constraint\",\n",
    "                   \"/eml:eml/dataset/otherEntity/constraint\": \"constraint\",\n",
    "                   \"/eml:eml/dataset/dataTable\": \"[entity]\",\n",
    "                   \"/eml:eml/dataset/spatialRaster\": \"[entity]\",\n",
    "                   \"/eml:eml/dataset/spatialVector\": \"[entity]\",\n",
    "                   \"/eml:eml/dataset/storedProcedure\": \"[entity]\",\n",
    "                   \"/eml:eml/dataset/view\": \"[entity]\",\n",
    "                   \"/eml:eml/dataset/otherEntity\": \"[entity]\",\n",
    "                   \"/eml:eml/dataset/project\": \"project\",\n",
    "                   \"/eml:eml/dataset/coverage/geographicCoverage\": 'geographicCoverage',\n",
    "                   \"/eml:eml/dataset/coverage/taxonomicCoverage\": 'taxonomicCoverage',\n",
    "                   \"/eml:eml/dataset/coverage/temporalCoverage\": 'temporalCoverage',\n",
    "                   \"attributeList/attribute/attributeDefinition\": 'attributeDefinition',\n",
    "                   '/eml:eml/additionalMetadata': 'additionalMetadata'\n",
    "           }\n",
    "\n",
    "\n",
    "# create a pattern to look for elements used in fulfilling the communities stated information needs\n",
    "used = set()\n",
    "elements = list(RecDict.keys())\n",
    "elements = [x for x in elements if x not in used and (used.add(x) or True)]\n",
    "\n",
    "# Used to order a dataframe in the order of the recommendation\n",
    "usedSet = set()\n",
    "ElementOrder = list(RecDict.values())\n",
    "ElementOrder = [x for x in ElementOrder if x not in usedSet and (usedSet.add(x) or True)]\n",
    "\n",
    "# create a list to fill the column with blanks or to utilize concepts \n",
    "ConceptOrder = ['Number of Records']+['']*(len(elements)-1)\n",
    "# create a list to fill the column with blanks that corresponds with the order of the FAIR recommendation levels.\n",
    "LevelOrder = ConceptOrder"
   ]
  },
  {
   "cell_type": "markdown",
   "metadata": {},
   "source": [
    "Optionally, replace the blank LevelOrder variable with each element's Level, be it Findable, Accessible, Interoperable, or Reusable"
   ]
  },
  {
   "cell_type": "code",
   "execution_count": null,
   "metadata": {},
   "outputs": [],
   "source": [
    "#optional cell, only used if assigning level labels to recommendation elements/concepts\n",
    "# define a list of element recommendation levels, maintaining the same order as the ElementOrder list\n",
    "LevelOrder = [\"Number of Records\",'Findable','Findable','Findable','Findable','Findable','Findable','Findable','Findable',\n",
    "              'Findable','Findable','Findable','Findable','Findable','Accessible','Accessible','Interoperable','Interoperable',\n",
    "              'Interoperable','Interoperable','Interoperable','Interoperable','Interoperable','Interoperable','Interoperable',\n",
    "              'Interoperable','Interoperable','Interoperable','Reusable','Reusable','Reusable','Reusable','Reusable']"
   ]
  },
  {
   "cell_type": "markdown",
   "metadata": {},
   "source": [
    "## Evaluation using the AllNodes.xsl transform\n",
    "\n",
    "This XSL is standards agnostic. AllNodes will work with any number of valid XML records, regardless of their standards compliance or creativity.\n",
    "The transform flattens the XML in each record in a directory into a csv. For each node that has text the XSL writes a row that contains the directory name, file name, text content, and the Xpath for each element and attribute in the records in the collection.\n"
   ]
  },
  {
   "cell_type": "code",
   "execution_count": 3,
   "metadata": {},
   "outputs": [],
   "source": [
    "# use the list of collections to run the evaluation for each collection\n",
    "for collection in collectionsToProcess:\n",
    "\n",
    "    \"\"\"\n",
    "    build a shell command to run the Evaluation XSL. \n",
    "    You'll need java installed and describe the location in the first string of the cmd list\n",
    "    \"\"\"   \n",
    "    cmd = [\"/usr/bin/java\",\n",
    "           '-jar', \"../scripts/saxon-b-9.0.jar\",\n",
    "           '-xsl:' + \"../scripts/AllNodes.xsl\",\n",
    "           '-s:' + \"../scripts/dummy.xml\",\n",
    "           '-o:' + \"../data/FAIR/\"+ str(collection) + \"_XpathEvaluated.csv\",\n",
    "           'recordSetPath=' + \"../collection/\" + str(collection) + \"/\"]\n",
    "    # run the transform\n",
    "    subprocess.run(' '.join(cmd), shell=True, check=True)\n",
    "    xpath_eval_file = \"../data/FAIR/\"+ str(collection) + \"_XpathEvaluated.csv\"\n",
    "    with open(xpath_eval_file, 'rb') as f:\n",
    "            gzxpath_eval_file = xpath_eval_file + '.gz'\n",
    "            with gzip.open(gzxpath_eval_file, 'wb') as gzf:\n",
    "                shutil.copyfileobj(f, gzf)\n",
    "                os.remove(xpath_eval_file)"
   ]
  },
  {
   "cell_type": "markdown",
   "metadata": {},
   "source": [
    "## Analysis using the EARmd.py module\n",
    "The module has already been used for getting the records via the Requests module. Now we are going to utilize the flat nature of the evaluated metadataset to use pandas to analyze the metadata for elements in the FAIR recommendation we've built. This process will yield two versions of the dataset: the absolute return of the evaluation, and the subset the recommendation pattern identified. Each version will be organized differently. Both versions will have an analysis applied called XpathOccurrence. It returns various information about the occurrence of each xpath used in the collection's records. The most important of these for our purposes is the percentage of records that contained which elements.\n",
    "\n"
   ]
  },
  {
   "cell_type": "code",
   "execution_count": 6,
   "metadata": {},
   "outputs": [],
   "source": [
    "for collection in collectionsToProcess:\n",
    "    # places for all the evaluated and analyzed data\n",
    "    XpathEvaluated = os.path.join(\"../data/FAIR/\", collection + \"_XpathEvaluated.csv.gz\")\n",
    "    XpathOccurrence = os.path.join(\"../data/FAIR/\", collection +'_XpathOccurrence.csv')\n",
    "\n",
    "    # Read in the evaluated metadata\n",
    "    EvaluatedDF = pd.read_csv(XpathEvaluated)\n",
    "\n",
    "    # Use above dataframe and apply the xpathOccurrence functions from MDeval\n",
    "    md.XpathOccurrence(EvaluatedDF, collection, XpathOccurrence)\n",
    "    \n",
    "    # Apply the recommendation to the collection\n",
    "    md.applyRecommendation(elements, 'FAIR', collection)"
   ]
  },
  {
   "cell_type": "markdown",
   "metadata": {},
   "source": [
    "## Create reports with EARmd.py\n",
    "\n",
    "#### All Elements Useage\n",
    "* The first row is the number of records. Use the *RecordCount* column\n",
    "* Rows are Xpath in any record throughout the collection\n",
    "* Columns are XpathCount, RecordCount, AverageOccurrencePerRecord, CollectionOccurrence%\n",
    "\n",
    "#### FAIR Elements Useage\n",
    "* same as the Element Usage Analysis, but limited to elements and their children that occurr in the conceptual recommendation.\n",
    "We will first apply a list of xpaths from a \"50 thousand foot view\". What is meant by this is that instead of  explicitly looking for each child element of /eml:eml/dataset/contact looking for xpaths that contain /eml:eml/dataset/contact. This will allow us to create a version of the evaluation that contains elements important to fulfilling specific recommendation needs. It will also allow for additional insight in how element choices shift over time. \n",
    "\n",
    "#### FAIR Concepts Useage\n",
    "* Take the occurrence percentage from the most used child element for each recommendation level parent element, and assign it to the element to get a high level view on recommendations compliance over time.\n",
    "\n",
    "Use the analyzed data to create reports for each collection. All reports are created as Excel spreadsheets.\n",
    "\n",
    "#### Visualize FAIR Fitness\n",
    "* Visualize the FAIR completeness percentage for your collection as a way to determine the likelyhood the catalog will address the FAIR information needs of your data users and producers. \n",
    "<p>Gordon, S 2019 Is your metadata catalog in shape?. Zenodo. https://doi.org/10.5281/zenodo.2558631</p>\n",
    "\n"
   ]
  },
  {
   "cell_type": "markdown",
   "metadata": {},
   "source": [
    "### Create a FAIRness report on the collection or collections \n",
    "\n",
    "* Give your report a name\n",
    "* Create the report\n",
    "* right click the resultant Google Sheets link"
   ]
  },
  {
   "cell_type": "code",
   "execution_count": null,
   "metadata": {},
   "outputs": [],
   "source": [
    "recommendationName = \"YourRec\""
   ]
  },
  {
   "cell_type": "code",
   "execution_count": null,
   "metadata": {},
   "outputs": [],
   "source": [
    "os.makedirs(\"../reports/FAIR\", exist_ok=True)\n",
    "\n",
    "#for collection in collectionsToProcess:\n",
    "    # places for all the combined data and combined Report\n",
    "DataDestination = os.path.join('../reports/FAIR', \"Report.xlsx\")\n",
    "XpathOccurrence = os.path.join(\"../data/FAIR\", 'Report_XpathOccurrence.csv')\n",
    "\n",
    "FAIROccurrence = os.path.join(\"..\", \"data\", \"FAIR\", 'Report_FAIRoccurrence.csv')\n",
    "FAIRConcept = os.path.join('..','data','FAIR', 'Report_FAIRcompleteness.csv')\n",
    "FAIRGraph = os.path.join('..','data','FAIR', 'Report_FAIR_.png')\n",
    "\n",
    "# combine the absolute occurance analysis for a site through time\n",
    "XpathOccurrenceToCombine = [os.path.join(\"../data/FAIR\", name) for name in os.listdir(\"../data/FAIR\") if name.endswith('_XpathOccurrence.csv') ]\n",
    "md.CombineXPathOccurrence(XpathOccurrenceToCombine,\n",
    "                          XpathOccurrence, to_csv=True)\n",
    "\n",
    "# Build lists of recommendation specific occurrence analysis for a site through time  \n",
    "FAIRoccurrenceToCombine = [os.path.join(\"../data/FAIR\", name) for name in os.listdir(\"../data/FAIR\") if name.endswith('_FAIROccurrence.csv') ]\n",
    "\n",
    "# utilize function to combine the recommendation specific analyses \n",
    "md.CombineAppliedRecommendation(collection, elements, 'FAIR', FAIRoccurrenceToCombine)\n",
    "\n",
    "# create recommendation pivot tables and radar graphs to acess the parent elements useage through time\n",
    "md.Collection_ConceptAnalysis(collection, 'FAIR', RecDict, LevelOrder, ConceptOrder, ElementOrder, collectionsToProcess)\n",
    "\n",
    "#write full quality image to Google Drive and get a link to insert next to the lower-quality picture in the google sheet\n",
    "MyfolderID = '1UJNvXdlLO-4QwYKESr7B5N4hWXrkKRTY'\n",
    "FAIRGraphLink = md.WriteToGoogle(\n",
    "    os.path.join('..','data','FAIR', 'Report_FAIR_.png'), folderID=MyfolderID, Convert=None, Link=True)\n",
    "                                   \n",
    "#create Excel report on all analyses, write additional functions on data to provide some collection analytics\n",
    "md.CombinationSpreadsheet(recommendationName, XpathOccurrence, FAIROccurrence,\n",
    "                          FAIRConcept, FAIRGraph,\n",
    "                          FAIRGraphLink, DataDestination\n",
    "                         )\n",
    "# write the spreadsheet to Google Drive, convert to Sheet\n",
    "md.WriteToGoogle(DataDestination, folderID=MyfolderID, Convert=True)"
   ]
  },
  {
   "cell_type": "code",
   "execution_count": null,
   "metadata": {},
   "outputs": [],
   "source": []
  }
 ],
 "metadata": {
  "kernelspec": {
   "display_name": "Python 3",
   "language": "python",
   "name": "python3"
  },
  "language_info": {
   "codemirror_mode": {
    "name": "ipython",
    "version": 3
   },
   "file_extension": ".py",
   "mimetype": "text/x-python",
   "name": "python",
   "nbconvert_exporter": "python",
   "pygments_lexer": "ipython3",
   "version": "3.7.1"
  },
  "nbmeta": {
   "@context": [
    "https://doi.org/10.5063/schema/codemeta-2.0",
    "http://schema.org"
   ],
   "@type": "SoftwareSourceCode",
   "author": [
    {
     "@id": "https://orcid.org/0000-0001-9050-6141",
     "@type": "Person",
     "email": "scgordon@hdfgroup.org",
     "familyName": "Gordon",
     "givenName": "Sean"
    },
    {
     "@id": "https://orcid.org/0000-0003-3585-6733",
     "@type": "Person",
     "familyName": "Habermann",
     "givenName": "Ted"
    }
   ],
   "codeRepository": "https://github.com/scgordon/FAIRsitesAnalysis",
   "contIntegration": [
    "https://travis-ci.org/scgordon/FAIRsitesAnalysis"
   ],
   "contributor": [
    {
     "@type": "Person",
     "familyName": "Jelenak",
     "givenName": "Aleksandar"
    }
   ],
   "copyrightHolder": [
    {
     "@id": "https://orcid.org/0000-0001-9050-6141",
     "@type": "Person",
     "email": "scgordon@hdfgroup.org",
     "familyName": "Gordon",
     "givenName": "Sean"
    }
   ],
   "description": "Notebook to run an analysis of the DataONE LTER science metadata to study how community information needs evolve over time",
   "developmentStatus": "http://www.repostatus.org/#active",
   "funder": [
    {
     "@type": "Organization",
     "name": "National Science Foundation"
    }
   ],
   "funding": "Award #1443062",
   "identifier": "LTERsitesAnalysis",
   "issueTracker": "https://github.com/scgordon/FAIRsitesAnalysis/issues",
   "keywords": [
    "metadata",
    "codemeta",
    "nbmeta",
    "citation",
    "credit",
    "linked-data",
    "json-ld",
    "python",
    "jupyter",
    "notebooks",
    "DataONE",
    "LTER",
    "recommendation",
    "information need",
    "shape of completeness",
    "evaluation",
    "analysis",
    "reports",
    "EAR",
    "metadig",
    "DIBBs"
   ],
   "license": "https://creativecommons.org/licenses/by/4.0/",
   "maintainer": [
    {
     "@id": "https://orcid.org/0000-0001-9050-6141",
     "@type": "Person",
     "email": "scgordon@hdfgroup.org",
     "familyName": "Gordon",
     "givenName": "Sean"
    }
   ],
   "name": "Evaluate_Analyze_and_Report_on_a_metadataset",
   "programmingLanguage": {
    "@type": "ComputerLanguage",
    "name": "Python",
    "url": "https://www.python.org/",
    "version": "3.7.1"
   },
   "relatedLink": [
    "https://doi.org/10.5281/zenodo.2529530",
    "https://github.com/scgordon/FAIRsitesAnalysis/blob/master/Create_a_metadataset_nbmeta.json",
    "https://github.com/scgordon/FAIRsitesAnalysis/blob/master/packageMetadata_nbmeta.json"
   ],
   "runtimePlatform": "Jupyterlab version 0.35.4 (2018-11-03)",
   "softwareRequirements": [
    {
     "@type": "SoftwareApplication",
     "identifier": "Python",
     "name": "Python",
     "version": ">= 3.0.0"
    },
    {
     "@type": "SoftwareApplication",
     "identifier": "jupyter",
     "name": "jupyter",
     "provider": {
      "@id": "https://jupyter.org",
      "@type": "Organization",
      "name": "Jupyter Team",
      "url": "https://jupyter.org"
     },
     "version": ">= 5.0.0"
    },
    {
     "@type": "SoftwareApplication",
     "identifier": "java",
     "name": "Java Runtime Environment",
     "provider": {
      "@id": "https://www.java.com",
      "@type": "Organization",
      "name": "Oracle",
      "url": "https://www.java.com"
     }
    },
    {
     "@type": "SoftwareApplication",
     "identifier": "saxon-B",
     "name": "Saxon",
     "provider": {
      "@id": "http://www.saxonica.com/",
      "@type": "Organization",
      "name": "Saxonica",
      "url": " http://www.saxonica.com/"
     },
     "sameAs": "https://sourceforge.net/projects/saxon/files/Saxon-B/9.1.0.8/saxonb9-1-0-8j.zip/download"
    },
    {
     "@type": "SoftwareApplication",
     "identifier": "sys",
     "sameAs": "https://pypi.org/project/sys"
    },
    {
     "@type": "SoftwareApplication",
     "identifier": "os",
     "sameAs": "https://pypi.org/project/os"
    },
    {
     "@type": "SoftwareApplication",
     "identifier": "pandas",
     "sameAs": "https://pypi.org/project/pandas"
    },
    {
     "@type": "SoftwareApplication",
     "identifier": "gzip",
     "sameAs": "https://pypi.org/project/gzip"
    },
    {
     "@type": "SoftwareApplication",
     "identifier": "shutil",
     "sameAs": "https://pypi.org/project/shutil"
    },
    {
     "@type": "SoftwareApplication",
     "identifier": "subprocess",
     "sameAs": "https://pypi.org/project/subprocess"
    },
    {
     "@type": "SoftwareApplication",
     "identifier": "tarfile",
     "sameAs": "https://pypi.org/project/tarfile"
    },
    {
     "@type": "SoftwareApplication",
     "identifier": "MDeval",
     "sameAs": "https://www.github.com/scgordon/MDeval"
    },
    {
     "@type": "SoftwareApplication",
     "identifier": "glob",
     "sameAs": "https://pypi.org/project/glob"
    },
    {
     "@type": "SoftwareApplication",
     "identifier": "requests",
     "sameAs": "https://pypi.org/project/requests"
    },
    {
     "@type": "SoftwareApplication",
     "identifier": "xlsxwriter",
     "sameAs": "https://pypi.org/project/xlsxwriter"
    },
    {
     "@type": "SoftwareApplication",
     "identifier": "lxml",
     "sameAs": "https://pypi.org/project/lxml"
    },
    {
     "@type": "SoftwareApplication",
     "identifier": "csv",
     "sameAs": "https://pypi.org/project/csv"
    },
    {
     "@type": "SoftwareApplication",
     "identifier": "logging",
     "sameAs": "https://pypi.org/project/logging"
    },
    {
     "@type": "SoftwareApplication",
     "identifier": "plotly",
     "sameAs": "https://pypi.org/project/plotly"
    },
    {
     "@type": "SoftwareApplication",
     "identifier": "itertools",
     "sameAs": "https://pypi.org/project/itertools"
    }
   ],
   "softwareSuggestions": [
    {
     "@type": "SoftwareApplication",
     "identifier": "pydrive",
     "name": "pydrive",
     "provider": {
      "@id": "https://github.com/gsuitedevs/PyDrive",
      "@type": "Organization",
      "name": "Google",
      "url": "https://github.com/gsuitedevs/PyDrive"
     },
     "sameAs": "https://pypi.org/project/PyDrive/"
    },
    {
     "@type": "SoftwareApplication",
     "identifier": "java 1.8.0_20",
     "name": "Java Runtime Environment",
     "provider": {
      "@id": "https://www.java.com",
      "@type": "Organization",
      "name": "Oracle",
      "url": "https://www.java.com"
     }
    }
   ],
   "version": "0.0.4"
  }
 },
 "nbformat": 4,
 "nbformat_minor": 2
}
